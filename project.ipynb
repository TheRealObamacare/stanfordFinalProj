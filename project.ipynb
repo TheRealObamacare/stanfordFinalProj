{
  "cells": [
    {
      "cell_type": "code",
      "execution_count": null,
      "id": "847de573",
      "metadata": {
        "id": "847de573"
      },
      "outputs": [],
      "source": [
        "import torch\n",
        "import torch.nn as nn\n",
        "import torch.nn.functional as F\n",
        "import torch.optim as optim\n",
        "from torch.utils.data import dataloader\n",
        "import pandas as pd\n",
        "import numpy as np\n",
        "import matplotlib.pyplot as plt\n",
        "from sklearn.model_selection import train_test_split"
      ]
    },
    {
      "cell_type": "code",
      "source": [
        "from sklearn.datasets import fetch_lfw_pairs\n",
        "lfw_pairs_train = fetch_lfw_pairs(subset='train')\n",
        "\n",
        "print(list(lfw_pairs_train.target_names))\n",
        "\n",
        "print(lfw_pairs_train.pairs.shape)\n",
        "\n",
        "print(lfw_pairs_train.data.shape)\n",
        "\n",
        "print(lfw_pairs_train.target.shape)\n",
        "\n",
        "lfw_pairs_test = fetch_lfw_pairs(subset='test')\n",
        "\n",
        "list(lfw_pairs_test.target_names), lfw_pairs_test.pairs.shape, lfw_pairs_test.data.shape, lfw_pairs_test.target.shape, lfw_pairs_test.target_names\n"
      ],
      "metadata": {
        "colab": {
          "base_uri": "https://localhost:8080/"
        },
        "id": "_sF2kqdv3CMe",
        "outputId": "8164efc5-a040-43a8-f0e8-2814f214797f"
      },
      "id": "_sF2kqdv3CMe",
      "execution_count": null,
      "outputs": [
        {
          "output_type": "stream",
          "name": "stdout",
          "text": [
            "[np.str_('Different persons'), np.str_('Same person')]\n",
            "(2200, 2, 62, 47)\n",
            "(2200, 5828)\n",
            "(2200,)\n"
          ]
        },
        {
          "output_type": "execute_result",
          "data": {
            "text/plain": [
              "([np.str_('Different persons'), np.str_('Same person')],\n",
              " (1000, 2, 62, 47),\n",
              " (1000, 5828),\n",
              " (1000,),\n",
              " array(['Different persons', 'Same person'], dtype='<U17'))"
            ]
          },
          "metadata": {},
          "execution_count": 2
        }
      ]
    },
    {
      "cell_type": "code",
      "source": [
        "Xtrain, Xtest, ytrain, ytest = lfw_pairs_train.data, lfw_pairs_test.data, lfw_pairs_train.target, lfw_pairs_test.target\n",
        "\n",
        "Xtrain.shape"
      ],
      "metadata": {
        "colab": {
          "base_uri": "https://localhost:8080/"
        },
        "id": "rhx__0Y4z8ez",
        "outputId": "9df744e4-bbf8-4450-ed14-d699c38572eb"
      },
      "id": "rhx__0Y4z8ez",
      "execution_count": null,
      "outputs": [
        {
          "output_type": "execute_result",
          "data": {
            "text/plain": [
              "(2200, 5828)"
            ]
          },
          "metadata": {},
          "execution_count": 3
        }
      ]
    },
    {
      "cell_type": "code",
      "source": [
        "class FacialRecog(nn.Module):\n",
        "    def __init__(self):\n",
        "        super(FacialRecog, self).__init__()\n",
        "        # The model expects 3-channel input images.\n",
        "        self.x1layers = nn.Sequential(\n",
        "            nn.Conv2d(3, 64, kernel_size=3, padding=1),\n",
        "            nn.BatchNorm2d(64),\n",
        "            nn.ReLU(),\n",
        "            nn.Conv2d(64, 64, kernel_size=3, padding=1),\n",
        "            nn.BatchNorm2d(64),\n",
        "            nn.ReLU(),\n",
        "            nn.MaxPool2d(2),\n",
        "\n",
        "            nn.Conv2d(64, 128, kernel_size=3, padding=1),\n",
        "            nn.BatchNorm2d(128),\n",
        "            nn.ReLU(),\n",
        "            nn.Conv2d(128, 128, kernel_size=3, padding=1),\n",
        "            nn.BatchNorm2d(128),\n",
        "            nn.ReLU(),\n",
        "            nn.MaxPool2d(2),\n",
        "\n",
        "            nn.Conv2d(128, 256, kernel_size=3, padding=1),\n",
        "            nn.BatchNorm2d(256),\n",
        "            nn.ReLU(),\n",
        "            nn.Conv2d(256, 256, kernel_size=3, padding=1),\n",
        "            nn.BatchNorm2d(256),\n",
        "            nn.ReLU(),\n",
        "            nn.AdaptiveAvgPool2d((1, 1)))\n",
        "        # The model expects 3-channel input images.\n",
        "        self.x2layers = nn.Sequential(\n",
        "            nn.Conv2d(3, 64, kernel_size=3, padding=1),\n",
        "            nn.BatchNorm2d(64),\n",
        "            nn.ReLU(),\n",
        "            nn.Conv2d(64, 64, kernel_size=3, padding=1),\n",
        "            nn.BatchNorm2d(64),\n",
        "            nn.ReLU(),\n",
        "            nn.MaxPool2d(2),\n",
        "\n",
        "            nn.Conv2d(64, 128, kernel_size=3, padding=1),\n",
        "            nn.BatchNorm2d(128),\n",
        "            nn.ReLU(),\n",
        "            nn.Conv2d(128, 128, kernel_size=3, padding=1),\n",
        "            nn.BatchNorm2d(128),\n",
        "            nn.ReLU(),\n",
        "            nn.MaxPool2d(2),\n",
        "\n",
        "            nn.Conv2d(128, 256, kernel_size=3, padding=1),\n",
        "            nn.BatchNorm2d(256),\n",
        "            nn.ReLU(),\n",
        "            nn.Conv2d(256, 256, kernel_size=3, padding=1),\n",
        "            nn.BatchNorm2d(256),\n",
        "            nn.ReLU(),\n",
        "            nn.AdaptiveAvgPool2d((1, 1)))\n",
        "        self.fc = nn.Sequential(\n",
        "            nn.Linear(512, 512),\n",
        "            nn.BatchNorm1d(512),\n",
        "            nn.ReLU(),\n",
        "            nn.Dropout(0.5),\n",
        "\n",
        "            nn.Linear(512, 256),\n",
        "            nn.BatchNorm1d(256),\n",
        "            nn.ReLU(),\n",
        "            nn.Dropout(0.3),\n",
        "\n",
        "            nn.Linear(256, 128),\n",
        "            nn.BatchNorm1d(128),\n",
        "            nn.ReLU(),\n",
        "            nn.Dropout(0.2),\n",
        "\n",
        "            nn.Linear(128, 1),\n",
        "            nn.Sigmoid())\n",
        "    def forward(self, x1, x2):\n",
        "        x1 = self.x1layers(x1)\n",
        "        x2 = self.x2layers(x2)\n",
        "        x = torch.cat((x1, x2), dim=1)\n",
        "        x = x.view(x.size()[0], -1)\n",
        "        x = self.fc(x)\n",
        "        return x"
      ],
      "metadata": {
        "id": "d3TIbMxd6u7m"
      },
      "id": "d3TIbMxd6u7m",
      "execution_count": null,
      "outputs": []
    },
    {
      "cell_type": "code",
      "source": [
        "if torch.cuda.is_available():\n",
        "    device = torch.device('cuda')\n",
        "else:\n",
        "    device = torch.device('cpu')\n",
        "\n",
        "print(device)"
      ],
      "metadata": {
        "colab": {
          "base_uri": "https://localhost:8080/"
        },
        "id": "a3GNETZWIqah",
        "outputId": "8998c662-7171-4cef-80e5-0dddc7b16801"
      },
      "id": "a3GNETZWIqah",
      "execution_count": null,
      "outputs": [
        {
          "output_type": "stream",
          "name": "stdout",
          "text": [
            "cuda\n"
          ]
        }
      ]
    },
    {
      "cell_type": "code",
      "source": [
        "model = FacialRecog()\n",
        "model.to(device)"
      ],
      "metadata": {
        "colab": {
          "base_uri": "https://localhost:8080/"
        },
        "id": "pH-g_IcBIxIF",
        "outputId": "03f0f541-1cb0-48a3-f9f5-da8087980e2a"
      },
      "id": "pH-g_IcBIxIF",
      "execution_count": null,
      "outputs": [
        {
          "output_type": "execute_result",
          "data": {
            "text/plain": [
              "FacialRecog(\n",
              "  (x1layers): Sequential(\n",
              "    (0): Conv2d(3, 64, kernel_size=(3, 3), stride=(1, 1), padding=(1, 1))\n",
              "    (1): BatchNorm2d(64, eps=1e-05, momentum=0.1, affine=True, track_running_stats=True)\n",
              "    (2): ReLU()\n",
              "    (3): Conv2d(64, 64, kernel_size=(3, 3), stride=(1, 1), padding=(1, 1))\n",
              "    (4): BatchNorm2d(64, eps=1e-05, momentum=0.1, affine=True, track_running_stats=True)\n",
              "    (5): ReLU()\n",
              "    (6): MaxPool2d(kernel_size=2, stride=2, padding=0, dilation=1, ceil_mode=False)\n",
              "    (7): Conv2d(64, 128, kernel_size=(3, 3), stride=(1, 1), padding=(1, 1))\n",
              "    (8): BatchNorm2d(128, eps=1e-05, momentum=0.1, affine=True, track_running_stats=True)\n",
              "    (9): ReLU()\n",
              "    (10): Conv2d(128, 128, kernel_size=(3, 3), stride=(1, 1), padding=(1, 1))\n",
              "    (11): BatchNorm2d(128, eps=1e-05, momentum=0.1, affine=True, track_running_stats=True)\n",
              "    (12): ReLU()\n",
              "    (13): MaxPool2d(kernel_size=2, stride=2, padding=0, dilation=1, ceil_mode=False)\n",
              "    (14): Conv2d(128, 256, kernel_size=(3, 3), stride=(1, 1), padding=(1, 1))\n",
              "    (15): BatchNorm2d(256, eps=1e-05, momentum=0.1, affine=True, track_running_stats=True)\n",
              "    (16): ReLU()\n",
              "    (17): Conv2d(256, 256, kernel_size=(3, 3), stride=(1, 1), padding=(1, 1))\n",
              "    (18): BatchNorm2d(256, eps=1e-05, momentum=0.1, affine=True, track_running_stats=True)\n",
              "    (19): ReLU()\n",
              "    (20): AdaptiveAvgPool2d(output_size=(1, 1))\n",
              "  )\n",
              "  (x2layers): Sequential(\n",
              "    (0): Conv2d(3, 64, kernel_size=(3, 3), stride=(1, 1), padding=(1, 1))\n",
              "    (1): BatchNorm2d(64, eps=1e-05, momentum=0.1, affine=True, track_running_stats=True)\n",
              "    (2): ReLU()\n",
              "    (3): Conv2d(64, 64, kernel_size=(3, 3), stride=(1, 1), padding=(1, 1))\n",
              "    (4): BatchNorm2d(64, eps=1e-05, momentum=0.1, affine=True, track_running_stats=True)\n",
              "    (5): ReLU()\n",
              "    (6): MaxPool2d(kernel_size=2, stride=2, padding=0, dilation=1, ceil_mode=False)\n",
              "    (7): Conv2d(64, 128, kernel_size=(3, 3), stride=(1, 1), padding=(1, 1))\n",
              "    (8): BatchNorm2d(128, eps=1e-05, momentum=0.1, affine=True, track_running_stats=True)\n",
              "    (9): ReLU()\n",
              "    (10): Conv2d(128, 128, kernel_size=(3, 3), stride=(1, 1), padding=(1, 1))\n",
              "    (11): BatchNorm2d(128, eps=1e-05, momentum=0.1, affine=True, track_running_stats=True)\n",
              "    (12): ReLU()\n",
              "    (13): MaxPool2d(kernel_size=2, stride=2, padding=0, dilation=1, ceil_mode=False)\n",
              "    (14): Conv2d(128, 256, kernel_size=(3, 3), stride=(1, 1), padding=(1, 1))\n",
              "    (15): BatchNorm2d(256, eps=1e-05, momentum=0.1, affine=True, track_running_stats=True)\n",
              "    (16): ReLU()\n",
              "    (17): Conv2d(256, 256, kernel_size=(3, 3), stride=(1, 1), padding=(1, 1))\n",
              "    (18): BatchNorm2d(256, eps=1e-05, momentum=0.1, affine=True, track_running_stats=True)\n",
              "    (19): ReLU()\n",
              "    (20): AdaptiveAvgPool2d(output_size=(1, 1))\n",
              "  )\n",
              "  (fc): Sequential(\n",
              "    (0): Linear(in_features=512, out_features=512, bias=True)\n",
              "    (1): BatchNorm1d(512, eps=1e-05, momentum=0.1, affine=True, track_running_stats=True)\n",
              "    (2): ReLU()\n",
              "    (3): Dropout(p=0.5, inplace=False)\n",
              "    (4): Linear(in_features=512, out_features=256, bias=True)\n",
              "    (5): BatchNorm1d(256, eps=1e-05, momentum=0.1, affine=True, track_running_stats=True)\n",
              "    (6): ReLU()\n",
              "    (7): Dropout(p=0.3, inplace=False)\n",
              "    (8): Linear(in_features=256, out_features=128, bias=True)\n",
              "    (9): BatchNorm1d(128, eps=1e-05, momentum=0.1, affine=True, track_running_stats=True)\n",
              "    (10): ReLU()\n",
              "    (11): Dropout(p=0.2, inplace=False)\n",
              "    (12): Linear(in_features=128, out_features=1, bias=True)\n",
              "    (13): Sigmoid()\n",
              "  )\n",
              ")"
            ]
          },
          "metadata": {},
          "execution_count": 6
        }
      ]
    },
    {
      "cell_type": "code",
      "source": [
        "total_params = sum(p.numel() for p in model.parameters() if p.requires_grad)\n",
        "print(f'Total trainable parameters: {total_params}')"
      ],
      "metadata": {
        "colab": {
          "base_uri": "https://localhost:8080/"
        },
        "id": "VzvoKPV86x2B",
        "outputId": "5a7482a6-94a4-4cd4-cd8a-155b526e26f9"
      },
      "id": "VzvoKPV86x2B",
      "execution_count": null,
      "outputs": [
        {
          "output_type": "stream",
          "name": "stdout",
          "text": [
            "Total trainable parameters: 2723201\n"
          ]
        }
      ]
    },
    {
      "cell_type": "code",
      "source": [
        "from torch.utils.data import Dataset, DataLoader\n",
        "\n",
        "class LFWDataset(Dataset):\n",
        "    def __init__(self, pairs, targets, transform=None):\n",
        "        self.pairs = pairs\n",
        "        self.targets = targets\n",
        "        self.transform = transform\n",
        "\n",
        "    def __len__(self):\n",
        "        return len(self.pairs)\n",
        "\n",
        "    def __getitem__(self, idx):\n",
        "        img1, img2 = self.pairs[idx]\n",
        "        target = self.targets[idx]\n",
        "\n",
        "        img1 = img1.reshape(62, 47)\n",
        "        img2 = img2.reshape(62, 47)\n",
        "\n",
        "        img1 = np.stack([img1, img1, img1], axis=0)\n",
        "        img2 = np.stack([img2, img2, img2], axis=0)\n",
        "\n",
        "        img1 = torch.from_numpy(img1).float()\n",
        "        img2 = torch.from_numpy(img2).float()\n",
        "\n",
        "        if self.transform:\n",
        "            img1 = self.transform(img1)\n",
        "            img2 = self.transform(img2)\n",
        "\n",
        "        return (img1, img2), torch.tensor(target, dtype=torch.float32)\n",
        "\n",
        "\n",
        "train_dataset = LFWDataset(lfw_pairs_train.pairs, lfw_pairs_train.target)\n",
        "test_dataset = LFWDataset(lfw_pairs_test.pairs, lfw_pairs_test.target)\n",
        "\n",
        "train_dataloader = DataLoader(train_dataset, batch_size=32, shuffle=True)\n",
        "test_dataloader = DataLoader(test_dataset, batch_size=32, shuffle=False)\n",
        "\n",
        "\n",
        "criterion = nn.BCELoss()\n",
        "optimizer = optim.Adam(model.parameters(), lr=0.001)\n",
        "\n",
        "def train_model(model, dataloader, criterion, optimizer, num_epochs=10):\n",
        "    model.train()\n",
        "    for epoch in range(num_epochs):\n",
        "        running_loss = 0.0\n",
        "        accuracy = 0.0\n",
        "        correct = 0\n",
        "        total = 0\n",
        "        for inputs, labels in dataloader:\n",
        "            inputs1, inputs2 = inputs\n",
        "            inputs1, inputs2, labels = inputs1.to(device), inputs2.to(device), labels.to(device)\n",
        "\n",
        "            optimizer.zero_grad()\n",
        "\n",
        "            outputs = model(inputs1, inputs2)\n",
        "            loss = criterion(outputs.squeeze(), labels)\n",
        "            loss.backward()\n",
        "            optimizer.step()\n",
        "\n",
        "            preds = (outputs.squeeze() > 0.5).float()\n",
        "            correct += (preds == labels).sum().item()\n",
        "            total += labels.size(0)\n",
        "            running_loss += loss.item() * labels.size(0)\n",
        "\n",
        "        epoch_loss = running_loss / len(dataloader.dataset)\n",
        "        accuracy = correct / total\n",
        "        print(f'Epoch {epoch+1}/{num_epochs}, Loss: {epoch_loss:.4f}')\n",
        "        print(f'Accuracy: {accuracy:.4f}')\n",
        "\n",
        "train_model(model, train_dataloader, criterion, optimizer, num_epochs=10)"
      ],
      "metadata": {
        "colab": {
          "base_uri": "https://localhost:8080/"
        },
        "id": "iIjzpZNmPtiJ",
        "outputId": "7be65a78-f47d-4315-8b69-5b8a2c0c9033"
      },
      "id": "iIjzpZNmPtiJ",
      "execution_count": null,
      "outputs": [
        {
          "output_type": "stream",
          "name": "stdout",
          "text": [
            "Epoch 1/10, Loss: 0.5933\n",
            "Accuracy: 0.6864\n",
            "Epoch 2/10, Loss: 0.5763\n",
            "Accuracy: 0.7091\n",
            "Epoch 3/10, Loss: 0.5783\n",
            "Accuracy: 0.7064\n",
            "Epoch 4/10, Loss: 0.5597\n",
            "Accuracy: 0.7264\n",
            "Epoch 5/10, Loss: 0.5463\n",
            "Accuracy: 0.7373\n",
            "Epoch 6/10, Loss: 0.5481\n",
            "Accuracy: 0.7323\n",
            "Epoch 7/10, Loss: 0.5282\n",
            "Accuracy: 0.7418\n",
            "Epoch 8/10, Loss: 0.5212\n",
            "Accuracy: 0.7464\n",
            "Epoch 9/10, Loss: 0.5286\n",
            "Accuracy: 0.7409\n",
            "Epoch 10/10, Loss: 0.5105\n",
            "Accuracy: 0.7536\n"
          ]
        }
      ]
    },
    {
      "cell_type": "code",
      "source": [
        "model.eval()\n",
        "with torch.no_grad():\n",
        "  correct = 0\n",
        "  total = 0\n",
        "  for inputs, labels in test_dataloader:\n",
        "    inputs1, inputs2 = inputs\n",
        "    inputs1, inputs2, labels = inputs1.to(device), inputs2.to(device), labels.to(device)\n",
        "    outputs = model(inputs1, inputs2)\n",
        "    preds = (outputs.squeeze() > 0.5).float()\n",
        "    correct += (preds == labels).sum().item()\n",
        "    total += labels.size(0)\n",
        "accuracy = correct / total\n",
        "print(f'Accuracy: {accuracy:.4f}')"
      ],
      "metadata": {
        "colab": {
          "base_uri": "https://localhost:8080/"
        },
        "id": "tUwmDB7J0avN",
        "outputId": "a51c05c0-c250-4c46-bf43-c0d794b2a860"
      },
      "id": "tUwmDB7J0avN",
      "execution_count": null,
      "outputs": [
        {
          "output_type": "stream",
          "name": "stdout",
          "text": [
            "Accuracy: 0.6080\n"
          ]
        }
      ]
    },
    {
      "cell_type": "code",
      "source": [
        "for inputs, labels in test_dataloader:\n",
        "  # Move tensor to CPU and permute dimensions for matplotlib\n",
        "  plt.imshow(inputs[0][0].to('cpu').permute(1, 2, 0), cmap='viridis')\n",
        "  plt.show()\n",
        "  plt.imshow(inputs[1][0].to('cpu').permute(1, 2, 0), cmap='viridis')\n",
        "  plt.show()\n",
        "  break"
      ],
      "metadata": {
        "colab": {
          "base_uri": "https://localhost:8080/",
          "height": 847
        },
        "id": "ARqaSegu093v",
        "outputId": "584a32e4-7af7-479b-b08a-2f6435048497"
      },
      "id": "ARqaSegu093v",
      "execution_count": null,
      "outputs": [
        {
          "output_type": "display_data",
          "data": {
            "text/plain": [
              "<Figure size 640x480 with 1 Axes>"
            ],
            "image/png": "[encoded data removed]"
          },
          "metadata": {}
        },
        {
          "output_type": "display_data",
          "data": {
            "text/plain": [
              "<Figure size 640x480 with 1 Axes>"
            ],
            "image/png": "[encoded data removed]"
          },
          "metadata": {}
        }
      ]
    }
  ],
  "metadata": {
    "kernelspec": {
      "display_name": "Python 3",
      "name": "python3"
    },
    "language_info": {
      "codemirror_mode": {
        "name": "ipython",
        "version": 3
      },
      "file_extension": ".py",
      "mimetype": "text/x-python",
      "name": "python",
      "nbconvert_exporter": "python",
      "pygments_lexer": "ipython3",
      "version": "3.13.1"
    },
    "colab": {
      "provenance": [],
      "gpuType": "T4"
    },
    "accelerator": "GPU"
  },
  "nbformat": 4,
  "nbformat_minor": 5
}